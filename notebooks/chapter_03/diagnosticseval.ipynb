{
 "cells": [
  {
   "cell_type": "markdown",
   "metadata": {},
   "source": [
    "# Evaluating Bias in Movie Recommendations\n",
    "## A Simple Diagnostic Offline Evaluation Example\n",
    "\n",
    "This notebook demonstrates how to perform a diagnostic offline evaluation to identify potential bias in movie recommendation systems. We'll look at factors like:\n",
    "- Blockbuster vs. indie representation across age groups\n",
    "- Genre diversity in recommendations\n",
    "- Diverse cast representation by subscription type"
   ]
  },
  {
   "cell_type": "code",
   "execution_count": null,
   "metadata": {},
   "outputs": [],
   "source": [
    "# Import necessary libraries\n",
    "import pandas as pd\n",
    "import numpy as np\n",
    "import matplotlib.pyplot as plt\n",
    "import seaborn as sns\n",
    "\n",
    "# Set the style for our visualizations\n",
    "plt.style.use('ggplot')\n",
    "sns.set_palette(\"viridis\")"
   ]
  },
  {
   "cell_type": "markdown",
   "metadata": {},
   "source": [
    "## 1. Create Synthetic Data\n",
    "\n",
    "First, we'll generate synthetic user and movie data to illustrate our example."
   ]
  },
  {
   "cell_type": "code",
   "execution_count": null,
   "metadata": {},
   "source": [
    "# Set random seed for reproducibility\n",
    "np.random.seed(42)\n",
    "\n",
    "# Generate user data with demographics\n",
    "num_users = 500\n",
    "user_data = {\n",
    "    'user_id': range(1, num_users + 1),\n",
    "    'age_group': np.random.choice(['18-24', '25-34', '35-44', '45-54', '55+'], num_users),\n",
    "    'subscription_type': np.random.choice(['free', 'premium'], num_users, p=[0.7, 0.3]),\n",
    "    'activity_level': np.random.choice(['low', 'medium', 'high'], num_users, p=[0.3, 0.5, 0.2])\n",
    "}\n",
    "users_df = pd.DataFrame(user_data)\n",
    "\n",
    "# Display the first few rows of user data\n",
    "print(f\"Generated {num_users} users with demographic information:\")\n",
    "users_df.head()"
   ]
  },
  {
   "cell_type": "code",
   "execution_count": null,
   "metadata": {},
   "source": [
    "# Generate movie data\n",
    "num_movies = 200\n",
    "genres = ['Action', 'Comedy', 'Drama', 'SciFi', 'Romance', 'Horror', 'Documentary', 'Indie']\n",
    "movie_data = {\n",
    "    'movie_id': range(1, num_movies + 1),\n",
    "    'title': [f'Movie {i}' for i in range(1, num_movies + 1)],\n",
    "    'genre': np.random.choice(genres, num_movies),\n",
    "    'release_year': np.random.randint(1990, 2024, num_movies),\n",
    "    'is_blockbuster': np.random.choice([0, 1], num_movies, p=[0.7, 0.3]),\n",
    "    'diverse_cast': np.random.choice([0, 1], num_movies, p=[0.6, 0.4])\n",
    "}\n",
    "movies_df = pd.DataFrame(movie_data)\n",
    "\n",
    "# Display the first few rows of movie data\n",
    "print(f\"Generated {num_movies} movies with metadata:\")\n",
    "movies_df.head()"
   ]
  },
  {
   "cell_type": "markdown",
   "metadata": {},
   "source": [
    "## 2. Simulate a Recommendation Model's Output\n",
    "\n",
    "Now we'll create a function that simulates a movie recommendation algorithm with deliberately introduced biases:"
   ]
  },
  {
   "cell_type": "code",
   "execution_count": null,
   "metadata": {},
   "source": [
    "def generate_recommendations(user_row, movies_df):\n",
    "    \"\"\"Simulate movie recommendations with built-in bias for demonstration\"\"\"\n",
    "    age_group = user_row['age_group']\n",
    "    subscription = user_row['subscription_type']\n",
    "    \n",
    "    # Introduce some bias in our \"model\"\n",
    "    if age_group in ['18-24', '25-34']:\n",
    "        # Younger users get more blockbusters\n",
    "        blockbuster_prob = 0.7\n",
    "        indie_prob = 0.1\n",
    "    else:\n",
    "        # Older users get more balanced recommendations\n",
    "        blockbuster_prob = 0.4\n",
    "        indie_prob = 0.3\n",
    "    \n",
    "    # Premium users get more diverse cast recommendations\n",
    "    diverse_prob = 0.6 if subscription == 'premium' else 0.2\n",
    "    \n",
    "    # Sample movies based on these biases\n",
    "    blockbuster_mask = movies_df['is_blockbuster'] == 1\n",
    "    indie_mask = (movies_df['genre'] == 'Indie') & (movies_df['is_blockbuster'] == 0)\n",
    "    diverse_mask = movies_df['diverse_cast'] == 1\n",
    "    \n",
    "    # Create a probability distribution for selection\n",
    "    probs = np.ones(len(movies_df)) * 0.1  # base probability\n",
    "    probs[blockbuster_mask] = blockbuster_prob\n",
    "    probs[indie_mask] = indie_prob\n",
    "    probs[diverse_mask] = diverse_prob\n",
    "    \n",
    "    # Normalize probabilities\n",
    "    probs = probs / probs.sum()\n",
    "    \n",
    "    # Sample movies without replacement\n",
    "    recommended_indices = np.random.choice(\n",
    "        movies_df.index, \n",
    "        size=10, \n",
    "        replace=False, \n",
    "        p=probs\n",
    "    )\n",
    "    \n",
    "    return movies_df.iloc[recommended_indices]['movie_id'].tolist()"
   ]
  },
  {
   "cell_type": "code",
   "execution_count": null,
   "metadata": {},
   "source": [
    "# Generate recommendations for all users\n",
    "recommendations = []\n",
    "for _, user in users_df.iterrows():\n",
    "    user_recs = generate_recommendations(user, movies_df)\n",
    "    for rank, movie_id in enumerate(user_recs, 1):\n",
    "        recommendations.append({\n",
    "            'user_id': user['user_id'],\n",
    "            'movie_id': movie_id,\n",
    "            'rank': rank\n",
    "        })\n",
    "\n",
    "recommendations_df = pd.DataFrame(recommendations)\n",
    "\n",
    "# Display a sample of recommendations\n",
    "print(f\"Generated {len(recommendations)} recommendations:\")\n",
    "recommendations_df.head(10)"
   ]
  },
  {
   "cell_type": "markdown",
   "metadata": {},
   "source": [
    "## 3. Diagnostic Evaluation: Analyzing Bias in Recommendations\n",
    "\n",
    "Now we'll join the recommendation data with user and movie metadata to perform our diagnostic evaluation."
   ]
  },
  {
   "cell_type": "code",
   "execution_count": null,
   "metadata": {},
   "source": [
    "# Join with user and movie data to analyze recommendations\n",
    "analysis_df = recommendations_df.merge(users_df, on='user_id')\n",
    "analysis_df = analysis_df.merge(movies_df, on='movie_id')\n",
    "\n",
    "# Display the combined data\n",
    "analysis_df.head()"
   ]
  },
  {
   "cell_type": "markdown",
   "metadata": {},
   "source": [
    "### 3.1 Analyzing Blockbuster vs. Indie Representation by Age Group"
   ]
  },
  {
   "cell_type": "code",
   "execution_count": null,
   "metadata": {},
   "source": [
    "# Calculate the proportion of blockbuster movies recommended to each age group\n",
    "blockbuster_by_age = analysis_df.groupby('age_group')['is_blockbuster'].mean().reset_index()\n",
    "blockbuster_by_age.columns = ['age_group', 'blockbuster_ratio']\n",
    "\n",
    "blockbuster_by_age"
   ]
  },
  {
   "cell_type": "markdown",
   "metadata": {},
   "source": [
    "### 3.2 Analyzing Genre Diversity by Age Group"
   ]
  },
  {
   "cell_type": "code",
   "execution_count": null,
   "metadata": {},
   "source": [
    "# Calculate the distribution of genres within each age group's recommendations\n",
    "genre_diversity = analysis_df.groupby(['age_group', 'genre']).size().reset_index(name='count')\n",
    "genre_pivot = genre_diversity.pivot(index='age_group', columns='genre', values='count').fillna(0)\n",
    "genre_pivot = genre_pivot.div(genre_pivot.sum(axis=1), axis=0)  # Normalize by row to get proportions\n",
    "\n",
    "genre_pivot"
   ]
  },
  {
   "cell_type": "markdown",
   "metadata": {},
   "source": [
    "### 3.3 Analyzing Diverse Cast Representation by Subscription Type"
   ]
  },
  {
   "cell_type": "code",
   "execution_count": null,
   "metadata": {},
   "source": [
    "# Calculate the proportion of diverse cast movies recommended to each subscription type\n",
    "diverse_by_subscription = analysis_df.groupby('subscription_type')['diverse_cast'].mean().reset_index()\n",
    "diverse_by_subscription.columns = ['subscription_type', 'diverse_cast_ratio']\n",
    "\n",
    "diverse_by_subscription"
   ]
  },
  {
   "cell_type": "markdown",
   "metadata": {},
   "source": [
    "## 4. Visualizing the Results\n",
    "\n",
    "Now we'll create visualizations to better understand the patterns and biases in our recommendations."
   ]
  },
  {
   "cell_type": "code",
   "execution_count": null,
   "metadata": {},
   "source": [
    "# 4.1 Blockbuster Ratio by Age Group\n",
    "plt.figure(figsize=(10, 6))\n",
    "sns.barplot(x='age_group', y='blockbuster_ratio', data=blockbuster_by_age)\n",
    "plt.title('Blockbuster Ratio in Recommendations by Age Group', fontsize=14)\n",
    "plt.xlabel('Age Group', fontsize=12)\n",
    "plt.ylabel('Proportion of Blockbuster Movies', fontsize=12)\n",
    "plt.ylim(0, 1)\n",
    "plt.grid(True, alpha=0.3)\n",
    "plt.xticks(rotation=0)\n",
    "plt.tight_layout()\n",
    "plt.show()"
   ]
  },
  {
   "cell_type": "code",
   "execution_count": null,
   "metadata": {},
   "source": [
    "# 4.2 Genre Distribution Heatmap by Age Group\n",
    "plt.figure(figsize=(12, 8))\n",
    "sns.heatmap(genre_pivot, annot=True, cmap='viridis', fmt='.2f', cbar_kws={'label': 'Proportion of Recommendations'})\n",
    "plt.title('Genre Distribution in Recommendations by Age Group', fontsize=14)\n",
    "plt.ylabel('Age Group', fontsize=12)\n",
    "plt.xlabel('Genre', fontsize=12)\n",
    "plt.tight_layout()\n",
    "plt.show()"
   ]
  },
  {
   "cell_type": "code",
   "execution_count": null,
   "metadata": {},
   "source": [
    "# 4.3 Diverse Cast Ratio by Subscription Type\n",
    "plt.figure(figsize=(8, 5))\n",
    "sns.barplot(x='subscription_type', y='diverse_cast_ratio', data=diverse_by_subscription)\n",
    "plt.title('Diverse Cast Representation by Subscription Type', fontsize=14)\n",
    "plt.xlabel('Subscription Type', fontsize=12)\n",
    "plt.ylabel('Proportion of Movies with Diverse Cast', fontsize=12)\n",
    "plt.ylim(0, 1)\n",
    "plt.grid(True, alpha=0.3)\n",
    "plt.tight_layout()\n",
    "plt.show()"
   ]
  },
  {
   "cell_type": "markdown",
   "metadata": {},
   "source": [
    "## 5. Calculate Fairness Metrics\n",
    "\n",
    "Let's calculate some standard fairness metrics to quantify the biases we've observed."
   ]
  },
  {
   "cell_type": "code",
   "execution_count": null,
   "metadata": {},
   "source": [
    "# 5.1 Calculate Demographic Parity for blockbuster recommendations\n",
    "# Demographic parity measures if different groups receive similar rates of positive outcomes\n",
    "# Here \"positive\" means getting recommended a blockbuster movie\n",
    "\n",
    "# Reference group (e.g., '18-24' age group)\n",
    "reference_group = '18-24'\n",
    "reference_rate = blockbuster_by_age[blockbuster_by_age['age_group'] == reference_group]['blockbuster_ratio'].values[0]\n",
    "\n",
    "# Calculate disparity ratio for each group compared to reference\n",
    "blockbuster_by_age['disparity_ratio'] = blockbuster_by_age['blockbuster_ratio'] / reference_rate\n",
    "blockbuster_by_age['absolute_difference'] = abs(blockbuster_by_age['blockbuster_ratio'] - reference_rate)\n",
    "\n",
    "print(\"\\nDemographic Parity Analysis for Blockbuster Recommendations:\")\n",
    "print(blockbuster_by_age[['age_group', 'blockbuster_ratio', 'disparity_ratio', 'absolute_difference']])\n",
    "print(\"\\nInterpretation: Values closer to 1.0 for disparity ratio indicate better demographic parity.\")"
   ]
  },
  {
   "cell_type": "code",
   "execution_count": null,
   "metadata": {},
   "source": [
    "# 5.2 Calculate Genre Diversity Score\n",
    "# Higher values indicate more evenly distributed genres in recommendations\n",
    "genre_entropy = -(genre_pivot * np.log2(genre_pivot + 1e-10)).sum(axis=1)\n",
    "max_entropy = np.log2(len(genres))  # Maximum possible entropy (if all genres equally likely)\n",
    "genre_diversity_score = genre_entropy / max_entropy  # Normalize to [0,1]\n",
    "\n",
    "print(\"\\nGenre Diversity Score by Age Group (higher is more diverse):\")\n",
    "for age, score in genre_diversity_score.items():\n",
    "    print(f\"{age}: {score:.4f}\")"
   ]
  },
  {
   "cell_type": "markdown",
   "metadata": {},
   "source": [
    "## 6. Overall Bias Assessment Report\n",
    "\n",
    "Let's summarize our findings and provide recommendations for addressing the biases we've identified."
   ]
  },
  {
   "cell_type": "code",
   "execution_count": null,
   "metadata": {},
   "source": [
    "print(\"\\n===== Bias Assessment Summary =====\")\n",
    "print(\"\\nBlockbuster Bias:\")\n",
    "if blockbuster_by_age['absolute_difference'].max() > 0.2:\n",
    "    print(\"⚠️ Significant bias detected in blockbuster recommendations across age groups.\")\n",
    "    most_biased = blockbuster_by_age.loc[blockbuster_by_age['absolute_difference'].idxmax()]\n",
    "    print(f\"   Largest disparity: {most_biased['age_group']} group with {most_biased['absolute_difference']:.2f} absolute difference.\")\n",
    "else:\n",
    "    print(\"✓ Blockbuster recommendations are relatively balanced across age groups.\")\n",
    "\n",
    "print(\"\\nGenre Diversity:\")\n",
    "if genre_diversity_score.min() < 0.6:\n",
    "    print(f\"⚠️ Low genre diversity detected for {genre_diversity_score.idxmin()} age group.\")\n",
    "else:\n",
    "    print(\"✓ Genre diversity is satisfactory across all age groups.\")\n",
    "\n",
    "print(\"\\nDiverse Cast Representation:\")\n",
    "diverse_diff = diverse_by_subscription['diverse_cast_ratio'].max() - diverse_by_subscription['diverse_cast_ratio'].min()\n",
    "if diverse_diff > 0.2:\n",
    "    print(\"⚠️ Significant disparity in diverse cast recommendations between subscription types.\")\n",
    "    print(f\"   The difference is {diverse_diff:.2f} between subscription types.\")\n",
    "else:\n",
    "    print(\"✓ Diverse cast recommendations are balanced across subscription types.\")\n",
    "\n",
    "print(\"\\n=================================\")\n",
    "print(\"Recommendation: Based on this diagnostic evaluation, the recommendation algorithm should be adjusted to reduce age-based bias in blockbuster recommendations and ensure more equitable genre distribution across all user groups.\")"
   ]
  },
  {
   "cell_type": "markdown",
   "metadata": {},
   "source": [
    "## Conclusion\n",
    "\n",
    "In this notebook, we've performed a diagnostic offline evaluation of a movie recommendation system to identify potential biases. We found:\n",
    "\n",
    "1. **Age-Based Bias**: Younger users receive significantly more blockbuster recommendations than older users.\n",
    "2. **Subscription-Based Bias**: Premium subscribers receive more recommendations featuring diverse casts.\n",
    "3. **Genre Distribution**: There are differences in genre diversity across age groups.\n",
    "\n",
    "These findings highlight the importance of diagnostic evaluations in identifying biases before deploying recommendation systems to real users. By addressing these biases, we can create more fair and equitable recommendation systems that better serve all user groups."
   ]
  }
 ],
 "metadata": {
  "kernelspec": {
   "display_name": "Python 3",
   "language": "python",
   "name": "python3"
  },
  "language_info": {
   "codemirror_mode": {
    "name": "ipython",
    "version": 3
   },
   "file_extension": ".py",
   "mimetype": "text/x-python",
   "name": "python",
   "nbconvert_exporter": "python",
   "pygments_lexer": "ipython3",
   "version": "3.8.10"
  }
 },
 "nbformat": 4,
 "nbformat_minor": 4
}
