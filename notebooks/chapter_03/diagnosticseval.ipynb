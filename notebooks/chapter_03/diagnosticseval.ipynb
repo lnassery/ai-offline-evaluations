# Evaluating Bias in Movie Recommendations
# A Simple Diagnostic Offline Evaluation Example

import pandas as pd
import numpy as np
import matplotlib.pyplot as plt
import seaborn as sns

# Set the style for our visualizations
plt.style.use('ggplot')
sns.set_palette("viridis")

# 1. Create synthetic data to illustrate the example
# --------------------------------------------------

# Create a synthetic user dataset
np.random.seed(42)  # For reproducibility

# Generate user data with demographics
num_users = 500
user_data = {
    'user_id': range(1, num_users + 1),
    'age_group': np.random.choice(['18-24', '25-34', '35-44', '45-54', '55+'], num_users),
    'subscription_type': np.random.choice(['free', 'premium'], num_users, p=[0.7, 0.3]),
    'activity_level': np.random.choice(['low', 'medium', 'high'], num_users, p=[0.3, 0.5, 0.2])
}
users_df = pd.DataFrame(user_data)

# Generate movie data
num_movies = 200
genres = ['Action', 'Comedy', 'Drama', 'SciFi', 'Romance', 'Horror', 'Documentary', 'Indie']
movie_data = {
    'movie_id': range(1, num_movies + 1),
    'title': [f'Movie {i}' for i in range(1, num_movies + 1)],
    'genre': np.random.choice(genres, num_movies),
    'release_year': np.random.randint(1990, 2024, num_movies),
    'is_blockbuster': np.random.choice([0, 1], num_movies, p=[0.7, 0.3]),
    'diverse_cast': np.random.choice([0, 1], num_movies, p=[0.6, 0.4])
}
movies_df = pd.DataFrame(movie_data)

# 2. Simulate a recommendation model's output
# ------------------------------------------

# For each user, generate 10 movie recommendations
def generate_recommendations(user_row, movies_df):
    """Simulate movie recommendations with built-in bias for demonstration"""
    age_group = user_row['age_group']
    subscription = user_row['subscription_type']
    
    # Introduce some bias in our "model"
    if age_group in ['18-24', '25-34']:
        # Younger users get more blockbusters
        blockbuster_prob = 0.7
        indie_prob = 0.1
    else:
        # Older users get more balanced recommendations
        blockbuster_prob = 0.4
        indie_prob = 0.3
    
    # Premium users get more diverse cast recommendations
    diverse_prob = 0.6 if subscription == 'premium' else 0.2
    
    # Sample movies based on these biases
    blockbuster_mask = movies_df['is_blockbuster'] == 1
    indie_mask = (movies_df['genre'] == 'Indie') & (movies_df['is_blockbuster'] == 0)
    diverse_mask = movies_df['diverse_cast'] == 1
    
    # Create a probability distribution for selection
    probs = np.ones(len(movies_df)) * 0.1  # base probability
    probs[blockbuster_mask] = blockbuster_prob
    probs[indie_mask] = indie_prob
    probs[diverse_mask] = diverse_prob
    
    # Normalize probabilities
    probs = probs / probs.sum()
    
    # Sample movies without replacement
    recommended_indices = np.random.choice(
        movies_df.index, 
        size=10, 
        replace=False, 
        p=probs
    )
    
    return movies_df.iloc[recommended_indices]['movie_id'].tolist()

# Generate recommendations for all users
recommendations = []
for _, user in users_df.iterrows():
    user_recs = generate_recommendations(user, movies_df)
    for rank, movie_id in enumerate(user_recs, 1):
        recommendations.append({
            'user_id': user['user_id'],
            'movie_id': movie_id,
            'rank': rank
        })

recommendations_df = pd.DataFrame(recommendations)

# 3. Diagnostic Evaluation: Analyzing Bias in Recommendations
# ---------------------------------------------------------

# Join with user and movie data to analyze recommendations
analysis_df = recommendations_df.merge(users_df, on='user_id')
analysis_df = analysis_df.merge(movies_df, on='movie_id')

# Let's examine the recommendations for bias

# 3.1 Blockbuster vs. Indie Representation by Age Group
blockbuster_by_age = analysis_df.groupby('age_group')['is_blockbuster'].mean().reset_index()
blockbuster_by_age.columns = ['age_group', 'blockbuster_ratio']

# 3.2 Genre Diversity by Age Group
genre_diversity = analysis_df.groupby(['age_group', 'genre']).size().reset_index(name='count')
genre_pivot = genre_diversity.pivot(index='age_group', columns='genre', values='count').fillna(0)
genre_pivot = genre_pivot.div(genre_pivot.sum(axis=1), axis=0)  # Normalize by row to get proportions

# 3.3 Diverse Cast Representation by Subscription Type
diverse_by_subscription = analysis_df.groupby('subscription_type')['diverse_cast'].mean().reset_index()
diverse_by_subscription.columns = ['subscription_type', 'diverse_cast_ratio']

# 4. Visualizing the Results
# -------------------------

# 4.1 Blockbuster Ratio by Age Group
plt.figure(figsize=(10, 6))
sns.barplot(x='age_group', y='blockbuster_ratio', data=blockbuster_by_age)
plt.title('Blockbuster Ratio in Recommendations by Age Group')
plt.xlabel('Age Group')
plt.ylabel('Proportion of Blockbuster Movies')
plt.ylim(0, 1)
plt.grid(True, alpha=0.3)
plt.show()

# 4.2 Genre Distribution Heatmap by Age Group
plt.figure(figsize=(12, 8))
sns.heatmap(genre_pivot, annot=True, cmap='viridis', fmt='.2f', cbar_kws={'label': 'Proportion of Recommendations'})
plt.title('Genre Distribution in Recommendations by Age Group')
plt.ylabel('Age Group')
plt.xlabel('Genre')
plt.tight_layout()
plt.show()

# 4.3 Diverse Cast Ratio by Subscription Type
plt.figure(figsize=(8, 5))
sns.barplot(x='subscription_type', y='diverse_cast_ratio', data=diverse_by_subscription)
plt.title('Diverse Cast Representation by Subscription Type')
plt.xlabel('Subscription Type')
plt.ylabel('Proportion of Movies with Diverse Cast')
plt.ylim(0, 1)
plt.grid(True, alpha=0.3)
plt.show()

# 5. Calculate Fairness Metrics
# ---------------------------

# 5.1 Calculate Demographic Parity for blockbuster recommendations
# Demographic parity measures if different groups receive similar rates of positive outcomes
# Here "positive" means getting recommended a blockbuster movie

# Reference group (e.g., '18-24' age group)
reference_group = '18-24'
reference_rate = blockbuster_by_age[blockbuster_by_age['age_group'] == reference_group]['blockbuster_ratio'].values[0]

# Calculate disparity ratio for each group compared to reference
blockbuster_by_age['disparity_ratio'] = blockbuster_by_age['blockbuster_ratio'] / reference_rate
blockbuster_by_age['absolute_difference'] = abs(blockbuster_by_age['blockbuster_ratio'] - reference_rate)

print("\nDemographic Parity Analysis for Blockbuster Recommendations:")
print(blockbuster_by_age[['age_group', 'blockbuster_ratio', 'disparity_ratio', 'absolute_difference']])
print("\nInterpretation: Values closer to 1.0 for disparity ratio indicate better demographic parity.")

# 5.2 Calculate Genre Diversity Score
# Higher values indicate more evenly distributed genres in recommendations
genre_entropy = -(genre_pivot * np.log2(genre_pivot + 1e-10)).sum(axis=1)
max_entropy = np.log2(len(genres))  # Maximum possible entropy (if all genres equally likely)
genre_diversity_score = genre_entropy / max_entropy  # Normalize to [0,1]

print("\nGenre Diversity Score by Age Group (higher is more diverse):")
for age, score in genre_diversity_score.items():
    print(f"{age}: {score:.4f}")

# 6. Overall Bias Assessment Report
# -------------------------------
print("\n===== Bias Assessment Summary =====")
print("\nBlockbuster Bias:")
if blockbuster_by_age['absolute_difference'].max() > 0.2:
    print("⚠️ Significant bias detected in blockbuster recommendations across age groups.")
    most_biased = blockbuster_by_age.loc[blockbuster_by_age['absolute_difference'].idxmax()]
    print(f"   Largest disparity: {most_biased['age_group']} group with {most_biased['absolute_difference']:.2f} absolute difference.")
else:
    print("✓ Blockbuster recommendations are relatively balanced across age groups.")

print("\nGenre Diversity:")
if genre_diversity_score.min() < 0.6:
    print(f"⚠️ Low genre diversity detected for {genre_diversity_score.idxmin()} age group.")
else:
    print("✓ Genre diversity is satisfactory across all age groups.")

print("\nDiverse Cast Representation:")
diverse_diff = diverse_by_subscription['diverse_cast_ratio'].max() - diverse_by_subscription['diverse_cast_ratio'].min()
if diverse_diff > 0.2:
    print("⚠️ Significant disparity in diverse cast recommendations between subscription types.")
    print(f"   The difference is {diverse_diff:.2f} between subscription types.")
else:
    print("✓ Diverse cast recommendations are balanced across subscription types.")

print("\n=================================")
print("Recommendation: Based on this diagnostic evaluation, the recommendation algorithm should be adjusted to reduce age-based bias in blockbuster recommendations and ensure more equitable genre distribution across all user groups.")
